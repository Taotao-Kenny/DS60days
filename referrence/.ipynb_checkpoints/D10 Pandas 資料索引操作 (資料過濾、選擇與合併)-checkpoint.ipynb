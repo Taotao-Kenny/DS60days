{
 "cells": [
  {
   "cell_type": "markdown",
   "metadata": {
    "id": "Jlxqzg1mj3X3"
   },
   "source": [
    "範例目標:<br>\n",
    "Pandas資料的索引、操作、選擇、過濾、合併與排序。"
   ]
  },
  {
   "cell_type": "markdown",
   "metadata": {
    "id": "JsnPRSpTkBek"
   },
   "source": [
    "範例重點:<br>\n",
    "1. 資料過濾與操作資料不同，過濾出來的資料將是新資料集，不會動到原本的資料。\n",
    "2. 合併資料時合併欄位(key)可多個欄位，遇到相同欄位名稱時merge會自動產生字尾，join則不會。\n",
    "\n"
   ]
  },
  {
   "cell_type": "code",
   "execution_count": 1,
   "metadata": {
    "id": "MJ8m3vf5kAfL"
   },
   "outputs": [],
   "source": [
    "import pandas as pd"
   ]
  },
  {
   "cell_type": "code",
   "execution_count": 3,
   "metadata": {
    "id": "D7qX7cmcjuVe",
    "outputId": "dfcc9c1e-0268-4f91-ecb2-35d9c864ab04"
   },
   "outputs": [
    {
     "ename": "ValueError",
     "evalue": "Usecols do not match columns, columns expected but not found: ['key']",
     "output_type": "error",
     "traceback": [
      "\u001b[1;31m---------------------------------------------------------------------------\u001b[0m",
      "\u001b[1;31mValueError\u001b[0m                                Traceback (most recent call last)",
      "\u001b[1;32m<ipython-input-3-498a4264d6fc>\u001b[0m in \u001b[0;36m<module>\u001b[1;34m\u001b[0m\n\u001b[1;32m----> 1\u001b[1;33m \u001b[0mboston_data\u001b[0m \u001b[1;33m=\u001b[0m \u001b[0mpd\u001b[0m\u001b[1;33m.\u001b[0m\u001b[0mread_csv\u001b[0m\u001b[1;33m(\u001b[0m\u001b[1;34m'boston.csv'\u001b[0m\u001b[1;33m,\u001b[0m\u001b[0musecols\u001b[0m\u001b[1;33m=\u001b[0m\u001b[1;33m[\u001b[0m\u001b[1;34m'CRIM'\u001b[0m\u001b[1;33m,\u001b[0m\u001b[1;34m'ZN'\u001b[0m\u001b[1;33m,\u001b[0m\u001b[1;34m'key'\u001b[0m\u001b[1;33m,\u001b[0m\u001b[1;34m'INDUS'\u001b[0m\u001b[1;33m]\u001b[0m\u001b[1;33m)\u001b[0m\u001b[1;33m\u001b[0m\u001b[1;33m\u001b[0m\u001b[0m\n\u001b[0m\u001b[0;32m      2\u001b[0m \u001b[0mboston_data_index\u001b[0m \u001b[1;33m=\u001b[0m \u001b[0mboston_data\u001b[0m\u001b[1;33m.\u001b[0m\u001b[0mset_index\u001b[0m\u001b[1;33m(\u001b[0m\u001b[1;34m'key'\u001b[0m\u001b[1;33m)\u001b[0m\u001b[1;33m\u001b[0m\u001b[1;33m\u001b[0m\u001b[0m\n\u001b[0;32m      3\u001b[0m \u001b[0mboston_data_index\u001b[0m\u001b[1;33m\u001b[0m\u001b[1;33m\u001b[0m\u001b[0m\n",
      "\u001b[1;32m~\\anaconda3\\lib\\site-packages\\pandas\\io\\parsers.py\u001b[0m in \u001b[0;36mparser_f\u001b[1;34m(filepath_or_buffer, sep, delimiter, header, names, index_col, usecols, squeeze, prefix, mangle_dupe_cols, dtype, engine, converters, true_values, false_values, skipinitialspace, skiprows, skipfooter, nrows, na_values, keep_default_na, na_filter, verbose, skip_blank_lines, parse_dates, infer_datetime_format, keep_date_col, date_parser, dayfirst, cache_dates, iterator, chunksize, compression, thousands, decimal, lineterminator, quotechar, quoting, doublequote, escapechar, comment, encoding, dialect, error_bad_lines, warn_bad_lines, delim_whitespace, low_memory, memory_map, float_precision)\u001b[0m\n\u001b[0;32m    674\u001b[0m         )\n\u001b[0;32m    675\u001b[0m \u001b[1;33m\u001b[0m\u001b[0m\n\u001b[1;32m--> 676\u001b[1;33m         \u001b[1;32mreturn\u001b[0m \u001b[0m_read\u001b[0m\u001b[1;33m(\u001b[0m\u001b[0mfilepath_or_buffer\u001b[0m\u001b[1;33m,\u001b[0m \u001b[0mkwds\u001b[0m\u001b[1;33m)\u001b[0m\u001b[1;33m\u001b[0m\u001b[1;33m\u001b[0m\u001b[0m\n\u001b[0m\u001b[0;32m    677\u001b[0m \u001b[1;33m\u001b[0m\u001b[0m\n\u001b[0;32m    678\u001b[0m     \u001b[0mparser_f\u001b[0m\u001b[1;33m.\u001b[0m\u001b[0m__name__\u001b[0m \u001b[1;33m=\u001b[0m \u001b[0mname\u001b[0m\u001b[1;33m\u001b[0m\u001b[1;33m\u001b[0m\u001b[0m\n",
      "\u001b[1;32m~\\anaconda3\\lib\\site-packages\\pandas\\io\\parsers.py\u001b[0m in \u001b[0;36m_read\u001b[1;34m(filepath_or_buffer, kwds)\u001b[0m\n\u001b[0;32m    446\u001b[0m \u001b[1;33m\u001b[0m\u001b[0m\n\u001b[0;32m    447\u001b[0m     \u001b[1;31m# Create the parser.\u001b[0m\u001b[1;33m\u001b[0m\u001b[1;33m\u001b[0m\u001b[1;33m\u001b[0m\u001b[0m\n\u001b[1;32m--> 448\u001b[1;33m     \u001b[0mparser\u001b[0m \u001b[1;33m=\u001b[0m \u001b[0mTextFileReader\u001b[0m\u001b[1;33m(\u001b[0m\u001b[0mfp_or_buf\u001b[0m\u001b[1;33m,\u001b[0m \u001b[1;33m**\u001b[0m\u001b[0mkwds\u001b[0m\u001b[1;33m)\u001b[0m\u001b[1;33m\u001b[0m\u001b[1;33m\u001b[0m\u001b[0m\n\u001b[0m\u001b[0;32m    449\u001b[0m \u001b[1;33m\u001b[0m\u001b[0m\n\u001b[0;32m    450\u001b[0m     \u001b[1;32mif\u001b[0m \u001b[0mchunksize\u001b[0m \u001b[1;32mor\u001b[0m \u001b[0miterator\u001b[0m\u001b[1;33m:\u001b[0m\u001b[1;33m\u001b[0m\u001b[1;33m\u001b[0m\u001b[0m\n",
      "\u001b[1;32m~\\anaconda3\\lib\\site-packages\\pandas\\io\\parsers.py\u001b[0m in \u001b[0;36m__init__\u001b[1;34m(self, f, engine, **kwds)\u001b[0m\n\u001b[0;32m    878\u001b[0m             \u001b[0mself\u001b[0m\u001b[1;33m.\u001b[0m\u001b[0moptions\u001b[0m\u001b[1;33m[\u001b[0m\u001b[1;34m\"has_index_names\"\u001b[0m\u001b[1;33m]\u001b[0m \u001b[1;33m=\u001b[0m \u001b[0mkwds\u001b[0m\u001b[1;33m[\u001b[0m\u001b[1;34m\"has_index_names\"\u001b[0m\u001b[1;33m]\u001b[0m\u001b[1;33m\u001b[0m\u001b[1;33m\u001b[0m\u001b[0m\n\u001b[0;32m    879\u001b[0m \u001b[1;33m\u001b[0m\u001b[0m\n\u001b[1;32m--> 880\u001b[1;33m         \u001b[0mself\u001b[0m\u001b[1;33m.\u001b[0m\u001b[0m_make_engine\u001b[0m\u001b[1;33m(\u001b[0m\u001b[0mself\u001b[0m\u001b[1;33m.\u001b[0m\u001b[0mengine\u001b[0m\u001b[1;33m)\u001b[0m\u001b[1;33m\u001b[0m\u001b[1;33m\u001b[0m\u001b[0m\n\u001b[0m\u001b[0;32m    881\u001b[0m \u001b[1;33m\u001b[0m\u001b[0m\n\u001b[0;32m    882\u001b[0m     \u001b[1;32mdef\u001b[0m \u001b[0mclose\u001b[0m\u001b[1;33m(\u001b[0m\u001b[0mself\u001b[0m\u001b[1;33m)\u001b[0m\u001b[1;33m:\u001b[0m\u001b[1;33m\u001b[0m\u001b[1;33m\u001b[0m\u001b[0m\n",
      "\u001b[1;32m~\\anaconda3\\lib\\site-packages\\pandas\\io\\parsers.py\u001b[0m in \u001b[0;36m_make_engine\u001b[1;34m(self, engine)\u001b[0m\n\u001b[0;32m   1112\u001b[0m     \u001b[1;32mdef\u001b[0m \u001b[0m_make_engine\u001b[0m\u001b[1;33m(\u001b[0m\u001b[0mself\u001b[0m\u001b[1;33m,\u001b[0m \u001b[0mengine\u001b[0m\u001b[1;33m=\u001b[0m\u001b[1;34m\"c\"\u001b[0m\u001b[1;33m)\u001b[0m\u001b[1;33m:\u001b[0m\u001b[1;33m\u001b[0m\u001b[1;33m\u001b[0m\u001b[0m\n\u001b[0;32m   1113\u001b[0m         \u001b[1;32mif\u001b[0m \u001b[0mengine\u001b[0m \u001b[1;33m==\u001b[0m \u001b[1;34m\"c\"\u001b[0m\u001b[1;33m:\u001b[0m\u001b[1;33m\u001b[0m\u001b[1;33m\u001b[0m\u001b[0m\n\u001b[1;32m-> 1114\u001b[1;33m             \u001b[0mself\u001b[0m\u001b[1;33m.\u001b[0m\u001b[0m_engine\u001b[0m \u001b[1;33m=\u001b[0m \u001b[0mCParserWrapper\u001b[0m\u001b[1;33m(\u001b[0m\u001b[0mself\u001b[0m\u001b[1;33m.\u001b[0m\u001b[0mf\u001b[0m\u001b[1;33m,\u001b[0m \u001b[1;33m**\u001b[0m\u001b[0mself\u001b[0m\u001b[1;33m.\u001b[0m\u001b[0moptions\u001b[0m\u001b[1;33m)\u001b[0m\u001b[1;33m\u001b[0m\u001b[1;33m\u001b[0m\u001b[0m\n\u001b[0m\u001b[0;32m   1115\u001b[0m         \u001b[1;32melse\u001b[0m\u001b[1;33m:\u001b[0m\u001b[1;33m\u001b[0m\u001b[1;33m\u001b[0m\u001b[0m\n\u001b[0;32m   1116\u001b[0m             \u001b[1;32mif\u001b[0m \u001b[0mengine\u001b[0m \u001b[1;33m==\u001b[0m \u001b[1;34m\"python\"\u001b[0m\u001b[1;33m:\u001b[0m\u001b[1;33m\u001b[0m\u001b[1;33m\u001b[0m\u001b[0m\n",
      "\u001b[1;32m~\\anaconda3\\lib\\site-packages\\pandas\\io\\parsers.py\u001b[0m in \u001b[0;36m__init__\u001b[1;34m(self, src, **kwds)\u001b[0m\n\u001b[0;32m   1935\u001b[0m                 \u001b[0mself\u001b[0m\u001b[1;33m.\u001b[0m\u001b[0morig_names\u001b[0m\u001b[1;33m\u001b[0m\u001b[1;33m\u001b[0m\u001b[0m\n\u001b[0;32m   1936\u001b[0m             ):\n\u001b[1;32m-> 1937\u001b[1;33m                 \u001b[0m_validate_usecols_names\u001b[0m\u001b[1;33m(\u001b[0m\u001b[0musecols\u001b[0m\u001b[1;33m,\u001b[0m \u001b[0mself\u001b[0m\u001b[1;33m.\u001b[0m\u001b[0morig_names\u001b[0m\u001b[1;33m)\u001b[0m\u001b[1;33m\u001b[0m\u001b[1;33m\u001b[0m\u001b[0m\n\u001b[0m\u001b[0;32m   1938\u001b[0m \u001b[1;33m\u001b[0m\u001b[0m\n\u001b[0;32m   1939\u001b[0m             \u001b[1;32mif\u001b[0m \u001b[0mlen\u001b[0m\u001b[1;33m(\u001b[0m\u001b[0mself\u001b[0m\u001b[1;33m.\u001b[0m\u001b[0mnames\u001b[0m\u001b[1;33m)\u001b[0m \u001b[1;33m>\u001b[0m \u001b[0mlen\u001b[0m\u001b[1;33m(\u001b[0m\u001b[0musecols\u001b[0m\u001b[1;33m)\u001b[0m\u001b[1;33m:\u001b[0m\u001b[1;33m\u001b[0m\u001b[1;33m\u001b[0m\u001b[0m\n",
      "\u001b[1;32m~\\anaconda3\\lib\\site-packages\\pandas\\io\\parsers.py\u001b[0m in \u001b[0;36m_validate_usecols_names\u001b[1;34m(usecols, names)\u001b[0m\n\u001b[0;32m   1230\u001b[0m     \u001b[0mmissing\u001b[0m \u001b[1;33m=\u001b[0m \u001b[1;33m[\u001b[0m\u001b[0mc\u001b[0m \u001b[1;32mfor\u001b[0m \u001b[0mc\u001b[0m \u001b[1;32min\u001b[0m \u001b[0musecols\u001b[0m \u001b[1;32mif\u001b[0m \u001b[0mc\u001b[0m \u001b[1;32mnot\u001b[0m \u001b[1;32min\u001b[0m \u001b[0mnames\u001b[0m\u001b[1;33m]\u001b[0m\u001b[1;33m\u001b[0m\u001b[1;33m\u001b[0m\u001b[0m\n\u001b[0;32m   1231\u001b[0m     \u001b[1;32mif\u001b[0m \u001b[0mlen\u001b[0m\u001b[1;33m(\u001b[0m\u001b[0mmissing\u001b[0m\u001b[1;33m)\u001b[0m \u001b[1;33m>\u001b[0m \u001b[1;36m0\u001b[0m\u001b[1;33m:\u001b[0m\u001b[1;33m\u001b[0m\u001b[1;33m\u001b[0m\u001b[0m\n\u001b[1;32m-> 1232\u001b[1;33m         raise ValueError(\n\u001b[0m\u001b[0;32m   1233\u001b[0m             \u001b[1;34m\"Usecols do not match columns, \"\u001b[0m\u001b[1;33m\u001b[0m\u001b[1;33m\u001b[0m\u001b[0m\n\u001b[0;32m   1234\u001b[0m             \u001b[1;34mf\"columns expected but not found: {missing}\"\u001b[0m\u001b[1;33m\u001b[0m\u001b[1;33m\u001b[0m\u001b[0m\n",
      "\u001b[1;31mValueError\u001b[0m: Usecols do not match columns, columns expected but not found: ['key']"
     ]
    }
   ],
   "source": [
    "boston_data = pd.read_csv('boston.csv',usecols=['CRIM','ZN','key','INDUS'])\n",
    "boston_data_index = boston_data.set_index('key')\n",
    "boston_data_index"
   ]
  },
  {
   "cell_type": "code",
   "execution_count": null,
   "metadata": {
    "id": "nzvVI_pcjuVh",
    "outputId": "7775b3c3-1ff9-4416-a2f3-714a9c3dbc4b"
   },
   "outputs": [],
   "source": [
    "boston_data_index.index"
   ]
  },
  {
   "cell_type": "code",
   "execution_count": null,
   "metadata": {
    "id": "vjKYK7SOjuVh",
    "outputId": "4f6a52f7-7a0c-4379-f5c5-fbefd4829cd3",
    "scrolled": false
   },
   "outputs": [],
   "source": [
    "boston_data_index2 = boston_data.set_index(['key','INDUS'])\n",
    "boston_data_index2"
   ]
  },
  {
   "cell_type": "code",
   "execution_count": null,
   "metadata": {
    "id": "Tec7JPTEjuVi",
    "outputId": "7125d8ab-ff9e-4e64-c8f3-151cc0bbcdd1",
    "scrolled": true
   },
   "outputs": [],
   "source": [
    "boston_data_index2.index"
   ]
  },
  {
   "cell_type": "code",
   "execution_count": null,
   "metadata": {
    "id": "OP6aSFsmjuVi",
    "outputId": "13e1a82e-4ef6-4899-a679-e7f170516f0a"
   },
   "outputs": [],
   "source": [
    "new_boston_data = boston_data.rename(columns={'CRIM':'feature1'})\n",
    "new_boston_data"
   ]
  },
  {
   "cell_type": "code",
   "execution_count": null,
   "metadata": {
    "id": "1dT2ymvcjuVj",
    "outputId": "5b760b7a-70bb-4fb2-9048-e442eb1d2622",
    "scrolled": true
   },
   "outputs": [],
   "source": [
    "copy1 = boston_data.copy()\n",
    "copy1['round_INDUS'] = round(copy1['INDUS'])\n",
    "copy1"
   ]
  },
  {
   "cell_type": "code",
   "execution_count": null,
   "metadata": {
    "id": "hJn31EFgjuVk",
    "outputId": "62e9c697-2dd9-420f-e7ce-74b2f396eb6d"
   },
   "outputs": [],
   "source": [
    "copy2 = boston_data.copy()\n",
    "copy2.insert(1,'round_INDUS',round(copy2['INDUS']))\n",
    "copy2"
   ]
  },
  {
   "cell_type": "code",
   "execution_count": null,
   "metadata": {
    "id": "5g0SJ0rzjuVk",
    "outputId": "e0fc3c41-5e8a-497a-ea51-3d2684908899"
   },
   "outputs": [],
   "source": [
    "del copy2['round_INDUS']\n",
    "copy2"
   ]
  },
  {
   "cell_type": "code",
   "execution_count": null,
   "metadata": {
    "id": "I22dxy63juVl",
    "outputId": "83705e3f-cf89-43d9-e108-7f3fe4bea09d"
   },
   "outputs": [],
   "source": [
    "print(copy1.pop('round_INDUS'))\n",
    "copy1"
   ]
  },
  {
   "cell_type": "code",
   "execution_count": null,
   "metadata": {
    "id": "nU73I_6DjuVl",
    "outputId": "fd3a87f6-d6c6-4189-cf66-aa4587398021"
   },
   "outputs": [],
   "source": [
    "copy3 = boston_data.copy()\n",
    "copy3.drop('CRIM',axis=1)"
   ]
  },
  {
   "cell_type": "code",
   "execution_count": null,
   "metadata": {
    "id": "IXBKZ_1rjuVm",
    "outputId": "7824b8ea-90d9-411b-bde1-96cbc3f183cf"
   },
   "outputs": [],
   "source": [
    "boston_data = boston_data.append(pd.DataFrame([[506,0,0,0]],columns=boston_data.columns))\n",
    "boston_data"
   ]
  },
  {
   "cell_type": "code",
   "execution_count": null,
   "metadata": {
    "id": "rU9Yo1AijuVm",
    "outputId": "87fec457-304c-4b5e-d476-9ed46c12df94"
   },
   "outputs": [],
   "source": [
    "boston_data = boston_data.drop(1)\n",
    "boston_data"
   ]
  },
  {
   "cell_type": "code",
   "execution_count": null,
   "metadata": {
    "id": "Qy-Fd9gHjuVm",
    "scrolled": true
   },
   "outputs": [],
   "source": [
    "stock_data = pd.read_csv('STOCK_DAY_0050_202010.csv')\n",
    "stock_data.loc[:5,['date','open','close']].to_csv('STOCK1.csv',index=False)\n",
    "stock_data.loc[3:7,['date','open','high']].to_csv('STOCK2.csv',index=False)"
   ]
  },
  {
   "cell_type": "code",
   "execution_count": null,
   "metadata": {
    "id": "aloECrfZjuVn",
    "outputId": "ef023079-8cd2-4028-ab6c-b988a653d6d3",
    "scrolled": true
   },
   "outputs": [],
   "source": [
    "stock_data"
   ]
  },
  {
   "cell_type": "code",
   "execution_count": null,
   "metadata": {
    "id": "xEM4ilOSjuVo",
    "outputId": "b92e7883-6a62-4a81-c02e-d7f8022fb61f"
   },
   "outputs": [],
   "source": [
    "stock_data.loc[stock_data.open<104]"
   ]
  },
  {
   "cell_type": "code",
   "execution_count": null,
   "metadata": {
    "id": "nFFF-XC2juVo",
    "outputId": "0d8324f4-18f4-4525-f447-a5808f743227"
   },
   "outputs": [],
   "source": [
    "stock_data.loc[(stock_data.open<104)&(stock_data.close>103),['open','close']]"
   ]
  },
  {
   "cell_type": "code",
   "execution_count": null,
   "metadata": {
    "id": "ek4RZvpnjuVo",
    "outputId": "4da79fcb-e3dd-4165-9b5c-96e54e6a0d2d"
   },
   "outputs": [],
   "source": [
    "stock_data.iloc[3:6]"
   ]
  },
  {
   "cell_type": "code",
   "execution_count": null,
   "metadata": {
    "id": "CzWt6L4rjuVp",
    "outputId": "4c117775-080b-445a-90c6-e22bfccb1840"
   },
   "outputs": [],
   "source": [
    "stock_data.iloc[3:6,:2]"
   ]
  },
  {
   "cell_type": "code",
   "execution_count": null,
   "metadata": {
    "id": "iyxGIfNljuVp",
    "outputId": "4c4a1496-e4f5-49ee-bd53-2f30a8bb3a9e"
   },
   "outputs": [],
   "source": [
    "stock_data1=pd.read_csv('STOCK1.csv')\n",
    "stock_data1"
   ]
  },
  {
   "cell_type": "code",
   "execution_count": null,
   "metadata": {
    "id": "mHNgHMZkjuVp",
    "outputId": "6ad02001-2827-4d02-b1fe-fdaf573c5402"
   },
   "outputs": [],
   "source": [
    "stock_data2=pd.read_csv('STOCK2.csv')\n",
    "stock_data2"
   ]
  },
  {
   "cell_type": "code",
   "execution_count": null,
   "metadata": {
    "id": "Mgh3L60ajuVq",
    "outputId": "eea56d94-1d01-45ac-ec46-76a779035ad0",
    "scrolled": true
   },
   "outputs": [],
   "source": [
    "pd.concat([stock_data1,stock_data2],axis=0)"
   ]
  },
  {
   "cell_type": "code",
   "execution_count": null,
   "metadata": {
    "id": "qm-SRdXrjuVq",
    "outputId": "9c3d4626-295e-4bac-b053-953512d2c7c8"
   },
   "outputs": [],
   "source": [
    "pd.concat([stock_data1,stock_data2],axis=1)"
   ]
  },
  {
   "cell_type": "code",
   "execution_count": null,
   "metadata": {
    "id": "XauKfr8_juVq",
    "outputId": "31bb72c1-de01-4830-cb37-b733c5a59a54"
   },
   "outputs": [],
   "source": [
    "pd.concat([stock_data1,stock_data2],axis=0,join='inner')"
   ]
  },
  {
   "cell_type": "code",
   "execution_count": null,
   "metadata": {
    "id": "XQnLf1gYjuVr",
    "outputId": "8f373f92-8323-4484-e27f-b29a35f0b834"
   },
   "outputs": [],
   "source": [
    "pd.merge(stock_data1,stock_data2,on='date',how='outer')"
   ]
  },
  {
   "cell_type": "code",
   "execution_count": null,
   "metadata": {
    "id": "9jAbVAl2juVr",
    "outputId": "1ac086f4-8f74-49f3-d7ad-4d19ab54ad39"
   },
   "outputs": [],
   "source": [
    "pd.merge(stock_data1,stock_data2,on='date',how='left')"
   ]
  },
  {
   "cell_type": "code",
   "execution_count": null,
   "metadata": {
    "id": "zFogDIPUjuVs",
    "outputId": "a93b4737-3151-4eab-9370-b089d8c3234c"
   },
   "outputs": [],
   "source": [
    "pd.merge(stock_data1,stock_data2,on='date',how='right')"
   ]
  },
  {
   "cell_type": "code",
   "execution_count": null,
   "metadata": {
    "id": "_xZ-99exjuVt"
   },
   "outputs": [],
   "source": [
    "stock_data1_index = stock_data1.set_index('date')\n",
    "stock_data2_index = stock_data2.set_index('date')"
   ]
  },
  {
   "cell_type": "code",
   "execution_count": null,
   "metadata": {
    "id": "FS_tCy6VjuVt",
    "outputId": "53f7d2cf-1ad0-4387-e316-69db29120cbc"
   },
   "outputs": [],
   "source": [
    "stock_data1_index.join(stock_data2_index,how='outer',lsuffix='_left',rsuffix='_right')"
   ]
  },
  {
   "cell_type": "code",
   "execution_count": null,
   "metadata": {
    "id": "T6uGxsgejuVu"
   },
   "outputs": [],
   "source": []
  }
 ],
 "metadata": {
  "colab": {
   "collapsed_sections": [],
   "name": "pandas_select_merge.ipynb",
   "provenance": []
  },
  "kernelspec": {
   "display_name": "Python 3",
   "language": "python",
   "name": "python3"
  },
  "language_info": {
   "codemirror_mode": {
    "name": "ipython",
    "version": 3
   },
   "file_extension": ".py",
   "mimetype": "text/x-python",
   "name": "python",
   "nbconvert_exporter": "python",
   "pygments_lexer": "ipython3",
   "version": "3.8.3"
  }
 },
 "nbformat": 4,
 "nbformat_minor": 1
}
